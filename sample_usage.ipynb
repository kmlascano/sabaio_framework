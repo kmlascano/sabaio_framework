{
 "cells": [
  {
   "cell_type": "code",
   "execution_count": 1,
   "id": "f6880e86",
   "metadata": {},
   "outputs": [],
   "source": [
    "from eval.database import db # fix routing\n",
    "from eval.database import calc_scores\n"
   ]
  },
  {
   "cell_type": "code",
   "execution_count": 2,
   "id": "772159de",
   "metadata": {},
   "outputs": [
    {
     "name": "stdout",
     "output_type": "stream",
     "text": [
      "Entry added and IDs compacted.\n",
      "Entry added and IDs compacted.\n",
      "Entry added and IDs compacted.\n",
      "Entry added and IDs compacted.\n",
      "Entry added and IDs compacted.\n",
      "Entry added and IDs compacted.\n",
      "Entry added and IDs compacted.\n",
      "Entry added and IDs compacted.\n",
      "Entry added and IDs compacted.\n",
      "Entry added and IDs compacted.\n",
      "Entry added and IDs compacted.\n",
      "Entry added and IDs compacted.\n",
      "Entry added and IDs compacted.\n",
      "Entry added and IDs compacted.\n",
      "Entry added and IDs compacted.\n",
      "Entry added and IDs compacted.\n",
      "Entry added and IDs compacted.\n",
      "Entry added and IDs compacted.\n",
      "Entry added and IDs compacted.\n",
      "\n",
      "Overall deficiency Similarity Score: 0.37\n",
      "\n",
      "Category Accuracy & Failure Positions:\n",
      "  sky: 2/4 correct (50.00%)\n",
      "    Failures at Q#: [2, 4]\n",
      "  sea: 22/34 correct (64.71%)\n",
      "    Failures at Q#: [1, 4, 12, 14, 15, 16, 18, 21, 29, 31, 32, 33]\n",
      "\n",
      "Global Failure Positions (by order in dataset):\n",
      "  [2, 3, 6, 14, 16, 17, 18, 21, 22, 25, 33, 35, 36, 37]\n"
     ]
    }
   ],
   "source": [
    "# for csv import\n",
    "path = \"eval/database/data_sample/test.csv\" \n",
    "# db.delete_all_entries() # delete entry (optional)\n",
    "db.add_df_entries(path)\n",
    "\n",
    "# for individual import\n",
    "# db.add_entry(\"category\",\"prompt\",\"gold_answer\",\"llm\") \n",
    "\n",
    "def_score,def_dict,failure_positions = calc_scores.get_scores(db)"
   ]
  },
  {
   "cell_type": "code",
   "execution_count": null,
   "id": "e316d49d",
   "metadata": {},
   "outputs": [],
   "source": []
  }
 ],
 "metadata": {
  "kernelspec": {
   "display_name": "nlp",
   "language": "python",
   "name": "python3"
  },
  "language_info": {
   "codemirror_mode": {
    "name": "ipython",
    "version": 3
   },
   "file_extension": ".py",
   "mimetype": "text/x-python",
   "name": "python",
   "nbconvert_exporter": "python",
   "pygments_lexer": "ipython3",
   "version": "3.10.12"
  }
 },
 "nbformat": 4,
 "nbformat_minor": 5
}
