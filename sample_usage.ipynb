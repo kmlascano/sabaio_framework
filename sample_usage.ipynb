{
 "cells": [
  {
   "cell_type": "code",
   "execution_count": 1,
   "id": "f6880e86",
   "metadata": {},
   "outputs": [],
   "source": [
    "from eval.database import db # fix routing\n",
    "from eval.database import calc_scores\n"
   ]
  },
  {
   "cell_type": "code",
   "execution_count": null,
   "id": "772159de",
   "metadata": {},
   "outputs": [],
   "source": [
    "# for csv import\n",
    "path = \"eval/database/data_sample/test.csv\" \n",
    "db.delete_all_entries() # delete entry (optional)\n",
    "db.add_df_entries(path)\n",
    "\n",
    "# for individual import\n",
    "# db.add_entry(\"category\",\"prompt\",\"gold_answer\",\"llm\") "
   ]
  },
  {
   "cell_type": "code",
   "execution_count": null,
   "id": "82c345ea",
   "metadata": {},
   "outputs": [],
   "source": [
    "db.view_entries() # view your table"
   ]
  },
  {
   "cell_type": "code",
   "execution_count": 13,
   "id": "e316d49d",
   "metadata": {},
   "outputs": [
    {
     "name": "stdout",
     "output_type": "stream",
     "text": [
      "\n",
      "Overall deficiency Similarity Score: 0.31\n",
      "\n",
      "Category Accuracy & Failure Positions:\n",
      "  sky: 8/10 correct (80.00%)\n",
      "    Failures at Q#: [2, 10]\n",
      "  sea: 11/17 correct (64.71%)\n",
      "    Failures at Q#: [1, 4, 12, 14, 15, 16]\n",
      "  land: 1/2 correct (50.00%)\n",
      "    Failures at Q#: [2]\n",
      "\n",
      "sky Failure Pattern Analysis:\n",
      "  - Average gap between failures: 8.00 questions\n",
      "  - Gaps sequence: [8]\n",
      "  - Failures are spread throughout of the dataset\n",
      "  - Longest consecutive-failure streak: 1\n",
      "\n",
      "sea Failure Pattern Analysis:\n",
      "  - Average gap between failures: 3.00 questions\n",
      "  - Gaps sequence: [3, 8, 2, 1, 1]\n",
      "  - Failures are mostly at the end of the dataset\n",
      "  - Longest consecutive-failure streak: 3\n",
      "\n",
      "land Failure Pattern Analysis:\n",
      "  - Only one failure, no gap pattern to analyze.\n",
      "  - Failures are mostly at the end of the dataset\n",
      "\n",
      "Global Failure Positions (by order in dataset):\n",
      "  [2, 10, 11, 14, 22, 24, 25, 26, 29]\n",
      "\n",
      "Global Failure Pattern Analysis:\n",
      "  - Average gap between failures: 3.38 questions\n",
      "  - Gaps sequence: [8, 1, 3, 8, 2, 1, 1, 3]\n",
      "  - Failures are spread throughout of the dataset\n",
      "  - Longest consecutive-failure streak: 3\n"
     ]
    }
   ],
   "source": [
    "\n",
    "def_score,def_dict,failure_positions = calc_scores.get_scores(db)"
   ]
  },
  {
   "cell_type": "code",
   "execution_count": null,
   "id": "40dd2b8e",
   "metadata": {},
   "outputs": [],
   "source": []
  }
 ],
 "metadata": {
  "kernelspec": {
   "display_name": "nlp",
   "language": "python",
   "name": "python3"
  },
  "language_info": {
   "codemirror_mode": {
    "name": "ipython",
    "version": 3
   },
   "file_extension": ".py",
   "mimetype": "text/x-python",
   "name": "python",
   "nbconvert_exporter": "python",
   "pygments_lexer": "ipython3",
   "version": "3.10.12"
  }
 },
 "nbformat": 4,
 "nbformat_minor": 5
}
