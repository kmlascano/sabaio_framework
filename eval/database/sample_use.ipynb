{
 "cells": [
  {
   "cell_type": "code",
   "execution_count": null,
   "id": "736fd015",
   "metadata": {},
   "outputs": [],
   "source": [
    "# note: must be within the same dir as database (WIP)\n",
    "import db\n",
    "import calc_scores\n"
   ]
  },
  {
   "cell_type": "markdown",
   "id": "7caa6a81",
   "metadata": {},
   "source": [
    "Import data"
   ]
  },
  {
   "cell_type": "code",
   "execution_count": null,
   "id": "5ea91617",
   "metadata": {},
   "outputs": [],
   "source": [
    "# for csv import\n",
    "path = \"data_sample/test.csv\" \n",
    "db.delete_all_entries() # delete entry (optional)\n",
    "db.add_df_entries(path)"
   ]
  },
  {
   "cell_type": "code",
   "execution_count": null,
   "id": "6b3dd1ce",
   "metadata": {},
   "outputs": [],
   "source": [
    "# for individual import\n",
    "db.add_entry(\"category\",\"prompt\",\"gold_answer\",\"llm\") "
   ]
  },
  {
   "cell_type": "code",
   "execution_count": 9,
   "id": "21ace02a",
   "metadata": {},
   "outputs": [
    {
     "name": "stdout",
     "output_type": "stream",
     "text": [
      "\n",
      "Overall deficiency Similarity Score: 0.37\n",
      "\n",
      "Category Accuracy & Failure Positions:\n",
      "  sky: 1/2 correct (50.00%)\n",
      "    Failures at Q#: [2]\n",
      "  sea: 11/17 correct (64.71%)\n",
      "    Failures at Q#: [1, 4, 12, 14, 15, 16]\n",
      "\n",
      "Global Failure Positions (by order in dataset):\n",
      "  [2, 3, 6, 14, 16, 17, 18]\n"
     ]
    }
   ],
   "source": [
    "def_score,def_dict,failure_positions = calc_scores.get_scores(db)"
   ]
  },
  {
   "cell_type": "code",
   "execution_count": null,
   "id": "fdcebabc",
   "metadata": {},
   "outputs": [],
   "source": []
  },
  {
   "cell_type": "code",
   "execution_count": null,
   "metadata": {},
   "outputs": [],
   "source": []
  }
 ],
 "metadata": {
  "kernelspec": {
   "display_name": "nlp",
   "language": "python",
   "name": "python3"
  },
  "language_info": {
   "codemirror_mode": {
    "name": "ipython",
    "version": 3
   },
   "file_extension": ".py",
   "mimetype": "text/x-python",
   "name": "python",
   "nbconvert_exporter": "python",
   "pygments_lexer": "ipython3",
   "version": "3.10.12"
  }
 },
 "nbformat": 4,
 "nbformat_minor": 5
}
