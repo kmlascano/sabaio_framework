{
 "cells": [
  {
   "cell_type": "code",
   "execution_count": 1,
   "id": "c10f2fc7",
   "metadata": {},
   "outputs": [],
   "source": [
    "import utils"
   ]
  },
  {
   "cell_type": "code",
   "execution_count": 3,
   "id": "d23cbca1",
   "metadata": {},
   "outputs": [
    {
     "name": "stdout",
     "output_type": "stream",
     "text": [
      "(1, 'What is 3*3?', '9', '8')\n",
      "(2, 'What is 3*3?', '9', '8')\n"
     ]
    }
   ],
   "source": [
    "table = utils.view_entries()"
   ]
  },
  {
   "cell_type": "code",
   "execution_count": 5,
   "id": "323d0384",
   "metadata": {},
   "outputs": [
    {
     "name": "stdout",
     "output_type": "stream",
     "text": [
      "ID: 1\n",
      "Question: What is 3*3?\n",
      "Answer: 9\n",
      "Expected: 8\n",
      "-----\n",
      "ID: 2\n",
      "Question: What is 3*3?\n",
      "Answer: 9\n",
      "Expected: 8\n",
      "-----\n"
     ]
    }
   ],
   "source": [
    "for row in utils.cursor.execute(\"SELECT * FROM qa_table ORDER BY id\"):\n",
    "    print(\"ID:\", row[0])\n",
    "    print(\"Question:\", row[1])\n",
    "    print(\"Answer:\", row[2])\n",
    "    print(\"Expected:\", row[3])\n",
    "    print(\"-----\")\n"
   ]
  },
  {
   "cell_type": "code",
   "execution_count": null,
   "id": "8b82e276",
   "metadata": {},
   "outputs": [],
   "source": []
  }
 ],
 "metadata": {
  "kernelspec": {
   "display_name": "sabaio",
   "language": "python",
   "name": "python3"
  },
  "language_info": {
   "codemirror_mode": {
    "name": "ipython",
    "version": 3
   },
   "file_extension": ".py",
   "mimetype": "text/x-python",
   "name": "python",
   "nbconvert_exporter": "python",
   "pygments_lexer": "ipython3",
   "version": "3.10.12"
  }
 },
 "nbformat": 4,
 "nbformat_minor": 5
}
